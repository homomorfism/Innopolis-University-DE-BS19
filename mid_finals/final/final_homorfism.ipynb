{
 "cells": [
  {
   "cell_type": "markdown",
   "source": [
    "**DE final examination**\n"
   ],
   "metadata": {
    "collapsed": false
   }
  },
  {
   "cell_type": "markdown",
   "source": [
    "## Problem 1\n",
    "Is function $e^{t^{-12}}$ on $[0, \\infty)$ a piece-with continuous? Does it have exponential order? Where (i.e. for what real $s$ in $[0, \\infty)$ you can guarantee that $L(e^{t^{-12}})$ the Laplace transform is defined? – Your answer must be proven and explained!"
   ],
   "metadata": {
    "collapsed": false,
    "pycharm": {
     "name": "#%% md\n"
    }
   }
  },
  {
   "cell_type": "markdown",
   "source": [
    "#### Solution\n",
    "\n",
    "The definitions were taken from book (http://ramanujan.math.trinity.edu/wtrench/texts/TRENCH_FREE_DIFFEQ_I.PDF)\n",
    "\n",
    ">By definition, a function $f$ is said to be piece wise continuous on a finite closed interval $[0, \\infty)$ if $f(+0)$ and $f(\\infty)$ are finite and $f$ is continuous on the open interval $(0, \\infty)$ except possibly at finitely many points, where $f$ may have jump discontinuities or removable discontinuities.\n",
    "\n",
    "At point $t = 0$ function $e^{t^{-12}}$ has discontinuity of second type, the function is not defined at this point, that is why the function is not piece-wise continuous at $[0, \\infty)$.\n",
    "\n",
    ">By definition, a function $f$ is said to be of exponential order $s_0$ if there exists constants $M$ and $t_0$ such that $|f(t)| \\leq M e^{s_0 t}$, $(t \\geq t_0)$. In situations where the specific value of $s_0$ is irrelevant we say simply that $f$ is of exponential order.\n",
    "\n",
    "Let $s_0 = 1, M = e, t_0 = 1$, then $\\forall t \\geq 1$:\n",
    "\n",
    "$\\frac{e^{t^{-12}}}{e \\cdot e^{1 t}} \\leq \\frac{e^{1}}{e \\cdot e^{t}} = e^{-t} \\leq 1$\n",
    "\n",
    "So, $e^{t^{-12}} \\leq M e^{s_0 t}$, $t \\geq t_0$ and we can guarantee that $e^{t^{-12}}$ has an exponential order of $s_0 = 1$."
   ],
   "metadata": {
    "collapsed": false,
    "pycharm": {
     "name": "#%% md\n"
    }
   }
  },
  {
   "cell_type": "markdown",
   "source": [
    "#### Feedback\n",
    "3 out of 10 points, solved only the first 2 simplest questions"
   ],
   "metadata": {
    "collapsed": false,
    "pycharm": {
     "name": "#%% md\n"
    }
   }
  },
  {
   "cell_type": "markdown",
   "source": [
    "## Problem 2\n",
    "Solve (using elimination) the following system:\n",
    "$\n",
    "\\begin{cases}\n",
    "  y_1' = y_1 - y_2 \\\\\n",
    "  y_2' = 14 y_1 + 2 y_2\n",
    "\\end{cases}\n",
    "$\n",
    "\n",
    "– Do not forget to prove the your solution is the most general!"
   ],
   "metadata": {
    "collapsed": false,
    "pycharm": {
     "name": "#%% md\n"
    }
   }
  },
  {
   "cell_type": "markdown",
   "source": [
    "#### Solution\n",
    "\n",
    "1. Differentiate the first equation (for $y_1'$) and instantiate $y_2'$ to it:\n",
    "\n",
    "$\n",
    "\\begin{cases}\n",
    "\ty_1'' = y_1' - y_2' \\\\\n",
    "\ty_2' = 14 y_1 + 2y_2\n",
    "\\end{cases}\n",
    "\\implies y_1'' = y_1' - 14y_1 - 2y_2\n",
    "$\n",
    "\n",
    "\n",
    "2. Express $y_2$ from the first equation $y_2 = y_1 - y_1'$ and substitute it into the last equation:\n",
    "\n",
    "$y_1'' = y_1' - 14 y_1 - 2 y_1 + 2 y_1'$\n",
    "\n",
    "$y_1'' - 3 y_1' + 16 y_1 = 0 \\mbox{ eq. (1) }$\n",
    "\n",
    "3. Let's find partial solutions of (1) in form $y = e^{a x}$\n",
    "\n",
    "$ a^2 e^{ax} - 3 e^{ax} + 16 a e^{ax} = 0$\n",
    "\n",
    "$ a^2 - 3a + 16 = 0 $\n",
    "\n",
    "$ a_{1,2} = \\frac{3 \\pm \\sqrt{9 - 64} }{2} = \\frac{3}{2}\\pm i \\frac{\\sqrt 55}{2 }$\n",
    "\n",
    "4. So, according to slide 32 (week 8-9) the most general solution to (1) is represented in this form:\n",
    "\n",
    "$y_1 = C e^{\\frac{3}{2} x} \\sin{(\\frac{\\sqrt 55}{2} x)} + D e^{\\frac{3}{2} x} \\cos{(\\frac{\\sqrt 55}{2} x)} \\mbox{, where $x \\in \\mathbb{R}$; $C, D \\in \\mathbb{R}$} \\mbox{  (2)  }$\n",
    "\n",
    "5."
   ],
   "metadata": {
    "collapsed": false,
    "pycharm": {
     "name": "#%% md\n"
    }
   }
  }
 ],
 "metadata": {
  "kernelspec": {
   "display_name": "Python 3",
   "language": "python",
   "name": "python3"
  },
  "language_info": {
   "codemirror_mode": {
    "name": "ipython",
    "version": 2
   },
   "file_extension": ".py",
   "mimetype": "text/x-python",
   "name": "python",
   "nbconvert_exporter": "python",
   "pygments_lexer": "ipython2",
   "version": "2.7.6"
  }
 },
 "nbformat": 4,
 "nbformat_minor": 0
}